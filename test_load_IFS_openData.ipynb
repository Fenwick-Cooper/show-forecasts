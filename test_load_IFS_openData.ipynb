{
 "cells": [
  {
   "cell_type": "code",
   "execution_count": 1,
   "metadata": {
    "execution": {
     "iopub.execute_input": "2024-04-23T15:55:33.620104Z",
     "iopub.status.busy": "2024-04-23T15:55:33.619743Z",
     "iopub.status.idle": "2024-04-23T15:55:34.814382Z",
     "shell.execute_reply": "2024-04-23T15:55:34.813121Z",
     "shell.execute_reply.started": "2024-04-23T15:55:33.620070Z"
    },
    "tags": []
   },
   "outputs": [],
   "source": [
    "# Demo script to load and plot ECMWF forecast open data.\n",
    "\n",
    "from datetime import datetime\n",
    "\n",
    "# These are the four functions that you can use:\n",
    "from show_forecasts.show_IFS_open_data import load_forecast, plot_forecast, print_forecast_info, get_possible_variables"
   ]
  },
  {
   "cell_type": "code",
   "execution_count": 2,
   "metadata": {
    "execution": {
     "iopub.execute_input": "2024-04-23T15:55:34.817011Z",
     "iopub.status.busy": "2024-04-23T15:55:34.816549Z",
     "iopub.status.idle": "2024-04-23T15:55:34.823357Z",
     "shell.execute_reply": "2024-04-23T15:55:34.822563Z",
     "shell.execute_reply.started": "2024-04-23T15:55:34.816981Z"
    },
    "tags": []
   },
   "outputs": [
    {
     "name": "stdout",
     "output_type": "stream",
     "text": [
      "Available variables to plot\n",
      "sp    - Surface pressure (hPa)\n",
      "msl   - Pressure at mean sea level (hPa)\n",
      "t2m   - Two metre temperature (deg. C)\n",
      "wind  - Wind speed (m/s)\n",
      "tp    - Total precipitation (mm/day)\n",
      "ro    - Surface runoff water (m)\n",
      "\n"
     ]
    }
   ],
   "source": [
    "# Where the forecasts are downloaded to\n",
    "data_dir = '/home/c/cooperf/IFS/IFSens_2023/2024_openData_p25'\n",
    "\n",
    "# The date that the forecast was initialised\n",
    "forecast_init_date = datetime(year=2024, month=2, day=22)\n",
    "# Pick today instead:\n",
    "# forecast_init_date = datetime.now()\n",
    "\n",
    "# See what variables are available\n",
    "get_possible_variables();"
   ]
  },
  {
   "cell_type": "code",
   "execution_count": 3,
   "metadata": {
    "execution": {
     "iopub.execute_input": "2024-04-23T15:55:34.824508Z",
     "iopub.status.busy": "2024-04-23T15:55:34.824193Z",
     "iopub.status.idle": "2024-04-23T15:58:23.215561Z",
     "shell.execute_reply": "2024-04-23T15:58:23.214468Z",
     "shell.execute_reply.started": "2024-04-23T15:55:34.824489Z"
    },
    "tags": []
   },
   "outputs": [
    {
     "name": "stdout",
     "output_type": "stream",
     "text": [
      "Loading sp with lead time 30h.\n",
      "Loading sp with lead time 33h.\n",
      "Loading sp with lead time 36h.\n",
      "Loading sp with lead time 39h.\n",
      "Loading sp with lead time 42h.\n",
      "Loading sp with lead time 45h.\n",
      "Loading sp with lead time 48h.\n",
      "Loading sp with lead time 51h.\n",
      "Loading sp with lead time 54h.\n"
     ]
    }
   ],
   "source": [
    "# Load some forecast data\n",
    "# Options given by possible_variables() are\n",
    "#    'sp'   - Surface pressure (hPa)\n",
    "#    'msl'  - Pressure at mean sea level (hPa)\n",
    "#    't2m'  - Two metre temperature (deg. C)\n",
    "#    'wind' - Wind speed (m/s)\n",
    "#    'tp'   - Total precipitation (mm/h)\n",
    "#    'ro'   - Surface runoff water (m)\n",
    "data = load_forecast('sp', forecast_init_date, data_dir)"
   ]
  },
  {
   "cell_type": "code",
   "execution_count": 4,
   "metadata": {
    "execution": {
     "iopub.execute_input": "2024-04-23T15:58:23.216796Z",
     "iopub.status.busy": "2024-04-23T15:58:23.216479Z",
     "iopub.status.idle": "2024-04-23T15:58:23.221241Z",
     "shell.execute_reply": "2024-04-23T15:58:23.220497Z",
     "shell.execute_reply.started": "2024-04-23T15:58:23.216779Z"
    }
   },
   "outputs": [
    {
     "name": "stdout",
     "output_type": "stream",
     "text": [
      "Forecast average: 2024-02-23 06:00:00 - 2024-02-24 06:00:00\n",
      "Forecast initialisation: 2024-02-22 00:00:00\n",
      "\n"
     ]
    }
   ],
   "source": [
    "# Print some information about the forecast\n",
    "print_forecast_info(forecast_init_date)"
   ]
  },
  {
   "cell_type": "code",
   "execution_count": 18,
   "metadata": {
    "execution": {
     "iopub.execute_input": "2024-04-23T16:35:28.694474Z",
     "iopub.status.busy": "2024-04-23T16:35:28.693855Z",
     "iopub.status.idle": "2024-04-23T16:35:28.705060Z",
     "shell.execute_reply": "2024-04-23T16:35:28.703825Z",
     "shell.execute_reply.started": "2024-04-23T16:35:28.694425Z"
    },
    "tags": []
   },
   "outputs": [],
   "source": [
    "import numpy as np\n",
    "import cartopy.feature as cfeature\n",
    "import cartopy.crs as ccrs\n",
    "import cartopy.io.shapereader as shpreader\n",
    "from cartopy.feature import ShapelyFeature\n",
    "import matplotlib.pyplot as plt\n",
    "from datetime import datetime, timedelta\n",
    "import cfgrib\n",
    "import xarray as xr\n",
    "\n",
    "from show_forecasts.data_utils import datetime64_to_datetime, get_contour_levels"
   ]
  },
  {
   "cell_type": "code",
   "execution_count": 19,
   "metadata": {
    "execution": {
     "iopub.execute_input": "2024-04-23T16:35:31.719055Z",
     "iopub.status.busy": "2024-04-23T16:35:31.718482Z",
     "iopub.status.idle": "2024-04-23T16:35:31.728027Z",
     "shell.execute_reply": "2024-04-23T16:35:31.726825Z",
     "shell.execute_reply.started": "2024-04-23T16:35:31.719007Z"
    },
    "tags": []
   },
   "outputs": [
    {
     "data": {
      "text/plain": [
       "datetime.datetime(2024, 2, 23, 6, 0)"
      ]
     },
     "execution_count": 19,
     "metadata": {},
     "output_type": "execute_result"
    }
   ],
   "source": [
    "datetime64_to_datetime(data['valid_time'].values)"
   ]
  },
  {
   "cell_type": "code",
   "execution_count": 20,
   "metadata": {
    "execution": {
     "iopub.execute_input": "2024-04-23T16:35:40.759291Z",
     "iopub.status.busy": "2024-04-23T16:35:40.758680Z",
     "iopub.status.idle": "2024-04-23T16:35:40.768093Z",
     "shell.execute_reply": "2024-04-23T16:35:40.766779Z",
     "shell.execute_reply.started": "2024-04-23T16:35:40.759242Z"
    },
    "tags": []
   },
   "outputs": [
    {
     "data": {
      "text/plain": [
       "numpy.datetime64('2024-02-23T06:00:00.000000000')"
      ]
     },
     "execution_count": 20,
     "metadata": {},
     "output_type": "execute_result"
    }
   ],
   "source": [
    "data['valid_time'].values"
   ]
  },
  {
   "cell_type": "code",
   "execution_count": 5,
   "metadata": {
    "execution": {
     "iopub.execute_input": "2024-04-23T15:58:23.222240Z",
     "iopub.status.busy": "2024-04-23T15:58:23.221969Z",
     "iopub.status.idle": "2024-04-23T15:58:25.822129Z",
     "shell.execute_reply": "2024-04-23T15:58:25.821102Z",
     "shell.execute_reply.started": "2024-04-23T15:58:23.222226Z"
    },
    "tags": []
   },
   "outputs": [
    {
     "ename": "UFuncTypeError",
     "evalue": "ufunc 'add' cannot use operands with types dtype('<M8[ns]') and dtype('O')",
     "output_type": "error",
     "traceback": [
      "\u001b[0;31m---------------------------------------------------------------------------\u001b[0m",
      "\u001b[0;31mUFuncTypeError\u001b[0m                            Traceback (most recent call last)",
      "Cell \u001b[0;32mIn[5], line 2\u001b[0m\n\u001b[1;32m      1\u001b[0m \u001b[38;5;66;03m# Plot the current data\u001b[39;00m\n\u001b[0;32m----> 2\u001b[0m \u001b[43mplot_forecast\u001b[49m\u001b[43m(\u001b[49m\u001b[43mdata\u001b[49m\u001b[43m)\u001b[49m\n",
      "File \u001b[0;32m/network/home/c/cooperf/Documents/SurfaceBias/WFP/operational-cGAN/show-forecasts/show_forecasts/show_IFS_open_data.py:237\u001b[0m, in \u001b[0;36mplot_forecast\u001b[0;34m(data)\u001b[0m\n\u001b[1;32m    234\u001b[0m \u001b[38;5;66;03m# axs is a 2 dimensional array of `GeoAxes`. Flatten it into a 1-D array\u001b[39;00m\n\u001b[1;32m    235\u001b[0m axs\u001b[38;5;241m=\u001b[39maxs\u001b[38;5;241m.\u001b[39mflatten()\n\u001b[0;32m--> 237\u001b[0m \u001b[43mdata\u001b[49m\u001b[43m[\u001b[49m\u001b[38;5;124;43m\"\u001b[39;49m\u001b[38;5;124;43mvalid_time\u001b[39;49m\u001b[38;5;124;43m\"\u001b[39;49m\u001b[43m]\u001b[49m\u001b[43m \u001b[49m\u001b[38;5;241;43m+\u001b[39;49m\u001b[43m \u001b[49m\u001b[43mtimedelta\u001b[49m\u001b[43m(\u001b[49m\u001b[43mhours\u001b[49m\u001b[38;5;241;43m=\u001b[39;49m\u001b[38;5;241;43m24\u001b[39;49m\u001b[43m)\u001b[49m\n\u001b[1;32m    239\u001b[0m ax\u001b[38;5;241m=\u001b[39maxs[\u001b[38;5;241m0\u001b[39m]  \u001b[38;5;66;03m# First plot (left)\u001b[39;00m\n\u001b[1;32m    240\u001b[0m ax\u001b[38;5;241m.\u001b[39madd_feature(cfeature\u001b[38;5;241m.\u001b[39mCOASTLINE, linewidth\u001b[38;5;241m=\u001b[39m\u001b[38;5;241m1\u001b[39m)  \u001b[38;5;66;03m# Draw some features to see where we are\u001b[39;00m\n",
      "File \u001b[0;32m~/nobackups/miniconda3/envs/AOPP/lib/python3.10/site-packages/xarray/core/_typed_ops.py:206\u001b[0m, in \u001b[0;36mDataArrayOpsMixin.__add__\u001b[0;34m(self, other)\u001b[0m\n\u001b[1;32m    205\u001b[0m \u001b[38;5;28;01mdef\u001b[39;00m \u001b[38;5;21m__add__\u001b[39m(\u001b[38;5;28mself\u001b[39m, other):\n\u001b[0;32m--> 206\u001b[0m     \u001b[38;5;28;01mreturn\u001b[39;00m \u001b[38;5;28;43mself\u001b[39;49m\u001b[38;5;241;43m.\u001b[39;49m\u001b[43m_binary_op\u001b[49m\u001b[43m(\u001b[49m\u001b[43mother\u001b[49m\u001b[43m,\u001b[49m\u001b[43m \u001b[49m\u001b[43moperator\u001b[49m\u001b[38;5;241;43m.\u001b[39;49m\u001b[43madd\u001b[49m\u001b[43m)\u001b[49m\n",
      "File \u001b[0;32m~/nobackups/miniconda3/envs/AOPP/lib/python3.10/site-packages/xarray/core/dataarray.py:4357\u001b[0m, in \u001b[0;36mDataArray._binary_op\u001b[0;34m(self, other, f, reflexive)\u001b[0m\n\u001b[1;32m   4353\u001b[0m other_variable \u001b[38;5;241m=\u001b[39m \u001b[38;5;28mgetattr\u001b[39m(other, \u001b[38;5;124m\"\u001b[39m\u001b[38;5;124mvariable\u001b[39m\u001b[38;5;124m\"\u001b[39m, other)\n\u001b[1;32m   4354\u001b[0m other_coords \u001b[38;5;241m=\u001b[39m \u001b[38;5;28mgetattr\u001b[39m(other, \u001b[38;5;124m\"\u001b[39m\u001b[38;5;124mcoords\u001b[39m\u001b[38;5;124m\"\u001b[39m, \u001b[38;5;28;01mNone\u001b[39;00m)\n\u001b[1;32m   4356\u001b[0m variable \u001b[38;5;241m=\u001b[39m (\n\u001b[0;32m-> 4357\u001b[0m     \u001b[43mf\u001b[49m\u001b[43m(\u001b[49m\u001b[38;5;28;43mself\u001b[39;49m\u001b[38;5;241;43m.\u001b[39;49m\u001b[43mvariable\u001b[49m\u001b[43m,\u001b[49m\u001b[43m \u001b[49m\u001b[43mother_variable\u001b[49m\u001b[43m)\u001b[49m\n\u001b[1;32m   4358\u001b[0m     \u001b[38;5;28;01mif\u001b[39;00m \u001b[38;5;129;01mnot\u001b[39;00m reflexive\n\u001b[1;32m   4359\u001b[0m     \u001b[38;5;28;01melse\u001b[39;00m f(other_variable, \u001b[38;5;28mself\u001b[39m\u001b[38;5;241m.\u001b[39mvariable)\n\u001b[1;32m   4360\u001b[0m )\n\u001b[1;32m   4361\u001b[0m coords, indexes \u001b[38;5;241m=\u001b[39m \u001b[38;5;28mself\u001b[39m\u001b[38;5;241m.\u001b[39mcoords\u001b[38;5;241m.\u001b[39m_merge_raw(other_coords, reflexive)\n\u001b[1;32m   4362\u001b[0m name \u001b[38;5;241m=\u001b[39m \u001b[38;5;28mself\u001b[39m\u001b[38;5;241m.\u001b[39m_result_name(other)\n",
      "File \u001b[0;32m~/nobackups/miniconda3/envs/AOPP/lib/python3.10/site-packages/xarray/core/_typed_ops.py:396\u001b[0m, in \u001b[0;36mVariableOpsMixin.__add__\u001b[0;34m(self, other)\u001b[0m\n\u001b[1;32m    395\u001b[0m \u001b[38;5;28;01mdef\u001b[39;00m \u001b[38;5;21m__add__\u001b[39m(\u001b[38;5;28mself\u001b[39m, other):\n\u001b[0;32m--> 396\u001b[0m     \u001b[38;5;28;01mreturn\u001b[39;00m \u001b[38;5;28;43mself\u001b[39;49m\u001b[38;5;241;43m.\u001b[39;49m\u001b[43m_binary_op\u001b[49m\u001b[43m(\u001b[49m\u001b[43mother\u001b[49m\u001b[43m,\u001b[49m\u001b[43m \u001b[49m\u001b[43moperator\u001b[49m\u001b[38;5;241;43m.\u001b[39;49m\u001b[43madd\u001b[49m\u001b[43m)\u001b[49m\n",
      "File \u001b[0;32m~/nobackups/miniconda3/envs/AOPP/lib/python3.10/site-packages/xarray/core/variable.py:2639\u001b[0m, in \u001b[0;36mVariable._binary_op\u001b[0;34m(self, other, f, reflexive)\u001b[0m\n\u001b[1;32m   2636\u001b[0m attrs \u001b[38;5;241m=\u001b[39m \u001b[38;5;28mself\u001b[39m\u001b[38;5;241m.\u001b[39m_attrs \u001b[38;5;28;01mif\u001b[39;00m keep_attrs \u001b[38;5;28;01melse\u001b[39;00m \u001b[38;5;28;01mNone\u001b[39;00m\n\u001b[1;32m   2637\u001b[0m \u001b[38;5;28;01mwith\u001b[39;00m np\u001b[38;5;241m.\u001b[39merrstate(\u001b[38;5;28mall\u001b[39m\u001b[38;5;241m=\u001b[39m\u001b[38;5;124m\"\u001b[39m\u001b[38;5;124mignore\u001b[39m\u001b[38;5;124m\"\u001b[39m):\n\u001b[1;32m   2638\u001b[0m     new_data \u001b[38;5;241m=\u001b[39m (\n\u001b[0;32m-> 2639\u001b[0m         \u001b[43mf\u001b[49m\u001b[43m(\u001b[49m\u001b[43mself_data\u001b[49m\u001b[43m,\u001b[49m\u001b[43m \u001b[49m\u001b[43mother_data\u001b[49m\u001b[43m)\u001b[49m \u001b[38;5;28;01mif\u001b[39;00m \u001b[38;5;129;01mnot\u001b[39;00m reflexive \u001b[38;5;28;01melse\u001b[39;00m f(other_data, self_data)\n\u001b[1;32m   2640\u001b[0m     )\n\u001b[1;32m   2641\u001b[0m result \u001b[38;5;241m=\u001b[39m Variable(dims, new_data, attrs\u001b[38;5;241m=\u001b[39mattrs)\n\u001b[1;32m   2642\u001b[0m \u001b[38;5;28;01mreturn\u001b[39;00m result\n",
      "\u001b[0;31mUFuncTypeError\u001b[0m: ufunc 'add' cannot use operands with types dtype('<M8[ns]') and dtype('O')"
     ]
    },
    {
     "data": {
      "image/png": "[encoded data removed]",
      "text/plain": [
       "<Figure size 1000x500 with 2 Axes>"
      ]
     },
     "metadata": {},
     "output_type": "display_data"
    }
   ],
   "source": [
    "# Plot the current data\n",
    "plot_forecast(data)"
   ]
  },
  {
   "cell_type": "code",
   "execution_count": null,
   "metadata": {
    "execution": {
     "iopub.status.busy": "2024-04-23T15:58:25.822835Z",
     "iopub.status.idle": "2024-04-23T15:58:25.823052Z",
     "shell.execute_reply": "2024-04-23T15:58:25.822955Z",
     "shell.execute_reply.started": "2024-04-23T15:58:25.822944Z"
    },
    "tags": []
   },
   "outputs": [],
   "source": [
    "# Show the other variables\n",
    "\n",
    "data = load_forecast('msl', forecast_init_date, data_dir, status_updates=False)\n",
    "plot_forecast(data)\n",
    "\n",
    "data = load_forecast('t2m', forecast_init_date, data_dir, status_updates=False)\n",
    "plot_forecast(data)\n",
    "\n",
    "data = load_forecast('wind', forecast_init_date, data_dir, status_updates=False)\n",
    "plot_forecast(data)\n",
    "\n",
    "data = load_forecast('tp', forecast_init_date, data_dir, status_updates=False)\n",
    "plot_forecast(data)\n",
    "\n",
    "data = load_forecast('ro', forecast_init_date, data_dir, status_updates=False)\n",
    "plot_forecast(data)"
   ]
  },
  {
   "cell_type": "code",
   "execution_count": null,
   "metadata": {
    "execution": {
     "iopub.status.busy": "2024-04-23T15:58:25.824547Z",
     "iopub.status.idle": "2024-04-23T15:58:25.824869Z",
     "shell.execute_reply": "2024-04-23T15:58:25.824766Z",
     "shell.execute_reply.started": "2024-04-23T15:58:25.824754Z"
    },
    "tags": []
   },
   "outputs": [],
   "source": [
    "#!jupyter nbconvert --to html test_load_IFS_openData.ipynb"
   ]
  },
  {
   "cell_type": "code",
   "execution_count": null,
   "metadata": {},
   "outputs": [],
   "source": []
  }
 ],
 "metadata": {
  "kernelspec": {
   "display_name": "Python 3 (ipykernel)",
   "language": "python",
   "name": "python3"
  },
  "language_info": {
   "codemirror_mode": {
    "name": "ipython",
    "version": 3
   },
   "file_extension": ".py",
   "mimetype": "text/x-python",
   "name": "python",
   "nbconvert_exporter": "python",
   "pygments_lexer": "ipython3",
   "version": "3.10.5"
  },
  "vscode": {
   "interpreter": {
    "hash": "3ab015c2a49daae96e873dea647810b2e9531d130d2d418268db2bbd503fb5b7"
   }
  }
 },
 "nbformat": 4,
 "nbformat_minor": 4
}
