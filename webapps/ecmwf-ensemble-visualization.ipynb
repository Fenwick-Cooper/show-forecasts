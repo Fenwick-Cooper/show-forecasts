{
 "cells": [
  {
   "cell_type": "markdown",
   "metadata": {},
   "source": [
    "This web application provides a way to explore ECMWF open datasets available at their [public portal](https://github.com/ecmwf/ecmwf-opendata) https://github.com/ecmwf/ecmwf-opendata. \n",
    "\n",
    "ECMWF open forecast dataset is available on their [portal https://data.ecmwf.int/forecasts](https://data.ecmwf.int/forecasts)\n",
    "\n",
    "The application has interactive input fields that can be used to define data parameters and forecast date.  \n"
   ]
  },
  {
   "cell_type": "code",
   "execution_count": null,
   "metadata": {},
   "outputs": [],
   "source": [
    "# Application initialization\n",
    "import mercury as mr\n",
    "\n",
    "show_code = mr.Checkbox(value=False, label=\"Show code\")\n",
    "\n",
    "app = mr.App(\n",
    "    title='Interactive IFS Data Exploration',\n",
    "    description='Loading and Visualizing IFS Open Data',\n",
    "    show_code=show_code.value\n",
    "    \n",
    ")\n"
   ]
  },
  {
   "cell_type": "code",
   "execution_count": null,
   "metadata": {},
   "outputs": [],
   "source": [
    "# helper functions\n",
    "from cgan_ui.show_forecasts import get_possible_variables\n",
    "\n",
    "get_possible_variables()"
   ]
  },
  {
   "cell_type": "code",
   "execution_count": null,
   "metadata": {},
   "outputs": [],
   "source": [
    "from cgan_ui.constants import AOI_BBOX\n",
    "\n",
    "mask_values = list(AOI_BBOX.keys())\n",
    "mask = mr.Select(\n",
    "    choices=mask_values,\n",
    "    value=mask_values[0],\n",
    "    label=\"Area of Interest\",\n",
    "    url_key=\"mask_area\",\n",
    ")"
   ]
  },
  {
   "cell_type": "code",
   "execution_count": null,
   "metadata": {},
   "outputs": [],
   "source": [
    "from cgan_ui.utils import get_forecast_data_dates\n",
    "\n",
    "data_dates = get_forecast_data_dates(mask=mask.value)\n",
    "data_dates"
   ]
  },
  {
   "cell_type": "code",
   "execution_count": null,
   "metadata": {},
   "outputs": [],
   "source": [
    "ifs_date = mr.Select(\n",
    "    choices=data_dates,\n",
    "    value=data_dates[-1],\n",
    "    label=\"Forecast Initialization Date\",\n",
    "    url_key=\"ifs_date\",\n",
    ")"
   ]
  },
  {
   "cell_type": "code",
   "execution_count": null,
   "metadata": {},
   "outputs": [],
   "source": [
    "from cgan_ui.constants import DATA_PARAMS\n",
    "\n",
    "params = list(DATA_PARAMS.keys())\n",
    "\n",
    "vis_param = mr.Select(\n",
    "    value=params[0], choices=params, label=\"Data Variable to Plot\", url_key=\"vis_param\"\n",
    ")"
   ]
  },
  {
   "cell_type": "code",
   "execution_count": null,
   "metadata": {},
   "outputs": [],
   "source": [
    "# helper functions\n",
    "from datetime import datetime\n",
    "from cgan_ui.utils import get_data_store_path\n",
    "from cgan_ui.ecmwf_esm_viz import load_forecast\n",
    "\n",
    "source = \"ecmwf\"\n",
    "stream = \"enfo\"\n",
    "\n",
    "store_path = get_data_store_path()\n",
    "data_dir = store_path / \"interim\" / mask.value / source / stream\n",
    "init_date = datetime.strptime(ifs_date.value, \"%b %d, %Y\")\n",
    "\n",
    "# load datasets\n",
    "data = load_forecast(\n",
    "    key=vis_param.value, forecast_init_date=init_date, data_dir=data_dir\n",
    ")"
   ]
  },
  {
   "cell_type": "code",
   "execution_count": null,
   "metadata": {},
   "outputs": [],
   "source": [
    "from cgan_ui.ecmwf_esm_viz import plot_forecast\n",
    "\n",
    "# Plot the current data\n",
    "plot_forecast(data)"
   ]
  },
  {
   "cell_type": "code",
   "execution_count": null,
   "metadata": {},
   "outputs": [],
   "source": [
    "import shutil\n",
    "import tarfile\n",
    "from loguru import logger\n",
    "from pathlib import Path\n",
    "from cgan_ui.constants import LEAD_START_HOUR, LEAD_END_HOUR\n",
    "\n",
    "download = mr.Button(label=\"Download Data\")\n",
    "\n",
    "# prepare data downloads on button click\n",
    "if download.clicked:\n",
    "    # output_dir will be current directory when running in the Jupyter Notebook\n",
    "    # output_dir will be some temporary directory path when running in Mercury\n",
    "    output_dir = mr.OutputDir()\n",
    "    d = init_date\n",
    "    file_ext = \"nc\"\n",
    "    forecast_hours = (\n",
    "        [LEAD_START_HOUR, LEAD_END_HOUR]\n",
    "        if DATA_PARAMS[vis_param.value][\"accumulated\"]\n",
    "        else range(LEAD_START_HOUR, LEAD_END_HOUR + 1, 3)\n",
    "    )\n",
    "    # Just need the start and end lead times for accumulated variables\n",
    "    for lead_hour in forecast_hours:\n",
    "        # Name of the file we will read\n",
    "        file_name = (\n",
    "            f\"{d.year}{d.month:02}{d.day:02}000000-{lead_hour}h-enfo-ef.{file_ext}\"\n",
    "        )\n",
    "        # copy files to output dir\n",
    "        ds_path = data_dir / file_name\n",
    "        output_file = Path(output_dir.path) / f\"{mask.value.lower()}-{file_name}\"\n",
    "        try:\n",
    "            shutil.copy(ds_path, output_file)\n",
    "        except Exception as err:\n",
    "            logger.error(f\"failed to copy {file_name} to output directory\")\n"
   ]
  }
 ],
 "metadata": {
  "kernelspec": {
   "display_name": "cgan",
   "language": "python",
   "name": "python3"
  },
  "language_info": {
   "codemirror_mode": {
    "name": "ipython",
    "version": 3
   },
   "file_extension": ".py",
   "mimetype": "text/x-python",
   "name": "python",
   "nbconvert_exporter": "python",
   "pygments_lexer": "ipython3",
   "version": "3.11.8"
  }
 },
 "nbformat": 4,
 "nbformat_minor": 2
}
