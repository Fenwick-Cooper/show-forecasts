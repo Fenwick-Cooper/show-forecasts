{
 "cells": [
  {
   "cell_type": "markdown",
   "metadata": {},
   "source": [
    "This web application provides a way to explore ECMWF open datasets available at their [public portal](https://github.com/ecmwf/ecmwf-opendata) https://github.com/ecmwf/ecmwf-opendata. \n",
    "\n",
    "The application has interactive input fields that can be used to define data parameters and forecast date.  \n"
   ]
  },
  {
   "cell_type": "code",
   "execution_count": 1,
   "metadata": {},
   "outputs": [
    {
     "data": {
      "application/mercury+json": {
       "code_uid": "Checkbox.0.40.70.4-rand8e5157eb",
       "disabled": false,
       "hidden": false,
       "label": "Show code",
       "model_id": "e105e056e9624a11a37ba2a50e52f371",
       "url_key": "",
       "value": false,
       "widget": "Checkbox"
      },
      "application/vnd.jupyter.widget-view+json": {
       "model_id": "e105e056e9624a11a37ba2a50e52f371",
       "version_major": 2,
       "version_minor": 0
      },
      "text/plain": [
       "mercury.Checkbox"
      ]
     },
     "metadata": {},
     "output_type": "display_data"
    },
    {
     "data": {
      "application/mercury+json": {
       "allow_download": true,
       "code_uid": "App.0.40.105.6-rand2c262cdf",
       "continuous_update": true,
       "description": "Loading and Visualizing IFS Open Data",
       "full_screen": true,
       "model_id": "mercury-app",
       "notify": "{}",
       "output": "app",
       "schedule": "",
       "show_code": false,
       "show_prompt": false,
       "show_sidebar": true,
       "static_notebook": false,
       "stop_on_error": false,
       "title": "Interactive IFS Data Exploration",
       "widget": "App"
      },
      "text/html": [
       "<h3>Mercury Application</h3><small>This output won't appear in the web app.</small>"
      ],
      "text/plain": [
       "mercury.App"
      ]
     },
     "metadata": {},
     "output_type": "display_data"
    }
   ],
   "source": [
    "# Application initialization\n",
    "import mercury as mr\n",
    "\n",
    "show_code = mr.Checkbox(value=False, label=\"Show code\")\n",
    "\n",
    "app = mr.App(\n",
    "    title='Interactive IFS Data Exploration',\n",
    "    description='Loading and Visualizing IFS Open Data',\n",
    "    show_code=show_code.value\n",
    "    \n",
    ")\n"
   ]
  },
  {
   "cell_type": "code",
   "execution_count": 2,
   "metadata": {},
   "outputs": [
    {
     "name": "stdout",
     "output_type": "stream",
     "text": [
      "Available variables to plot are the following:\n",
      "sp    - Surface pressure (hPa)\n",
      "msl   - Pressure at mean sea level (hPa)\n",
      "t2m   - Two metre temperature (deg. C)\n",
      "wind  - Wind speed (m/s)\n",
      "tp    - Total precipitation (mm/day)\n",
      "ro    - Surface runoff water (m)\n",
      "\n"
     ]
    },
    {
     "data": {
      "text/plain": [
       "['sp', 'msl', 't2m', 'wind', 'tp', 'ro']"
      ]
     },
     "execution_count": 2,
     "metadata": {},
     "output_type": "execute_result"
    }
   ],
   "source": [
    "# helper functions\n",
    "from cgan_ui.show_forecasts import get_possible_variables\n",
    "\n",
    "get_possible_variables()"
   ]
  },
  {
   "cell_type": "code",
   "execution_count": 3,
   "metadata": {},
   "outputs": [
    {
     "data": {
      "text/plain": [
       "['Apr 04, 2024']"
      ]
     },
     "execution_count": 3,
     "metadata": {},
     "output_type": "execute_result"
    }
   ],
   "source": [
    "from datetime import datetime\n",
    "from cgan_ui.utils import get_forecast_data_dates\n",
    "\n",
    "data_dates = get_forecast_data_dates()\n",
    "data_dates\n"
   ]
  },
  {
   "cell_type": "code",
   "execution_count": 4,
   "metadata": {},
   "outputs": [
    {
     "data": {
      "application/mercury+json": {
       "choices": [
        "Apr 04, 2024"
       ],
       "code_uid": "Select.0.40.104.1.ifs_date-randf3b75685",
       "disabled": false,
       "hidden": false,
       "label": "Forecast Initialization Date",
       "model_id": "74fcbd3d0c11485e870e62e983205446",
       "url_key": "ifs_date",
       "value": "Apr 04, 2024",
       "widget": "Select"
      },
      "application/vnd.jupyter.widget-view+json": {
       "model_id": "74fcbd3d0c11485e870e62e983205446",
       "version_major": 2,
       "version_minor": 0
      },
      "text/plain": [
       "mercury.Select"
      ]
     },
     "metadata": {},
     "output_type": "display_data"
    }
   ],
   "source": [
    "ifs_date = mr.Select(\n",
    "    choices=data_dates,\n",
    "    value=data_dates[-1],\n",
    "    label=\"Forecast Initialization Date\",\n",
    "    url_key=\"ifs_date\",\n",
    ")"
   ]
  },
  {
   "cell_type": "code",
   "execution_count": 5,
   "metadata": {},
   "outputs": [
    {
     "data": {
      "application/mercury+json": {
       "choices": [
        "sp",
        "msl",
        "t2m",
        "wind",
        "tp",
        "ro"
       ],
       "code_uid": "Select.0.40.104.5.vis_param-randb305bedd",
       "disabled": false,
       "hidden": false,
       "label": "Data Variable to Plot",
       "model_id": "d5461097c4264eb3b2263c8bed152c5e",
       "url_key": "vis_param",
       "value": "sp",
       "widget": "Select"
      },
      "application/vnd.jupyter.widget-view+json": {
       "model_id": "d5461097c4264eb3b2263c8bed152c5e",
       "version_major": 2,
       "version_minor": 0
      },
      "text/plain": [
       "mercury.Select"
      ]
     },
     "metadata": {},
     "output_type": "display_data"
    }
   ],
   "source": [
    "from cgan_ui.constants import DATA_PARAMS\n",
    "\n",
    "params = list(DATA_PARAMS.keys())\n",
    "\n",
    "vis_param = mr.Select(\n",
    "    value=params[0], choices=params, label=\"Data Variable to Plot\", url_key=\"vis_param\"\n",
    ")"
   ]
  },
  {
   "cell_type": "code",
   "execution_count": 6,
   "metadata": {},
   "outputs": [
    {
     "name": "stderr",
     "output_type": "stream",
     "text": [
      "WARNING:cfgrib.messages:Ignoring index file '/home/jason/Sources/cgan-ui/webapps/../store/ecmwf/enfo/20240404000000-30h-enfo-ef.grib2.923a8.idx' incompatible with GRIB file\n"
     ]
    },
    {
     "name": "stdout",
     "output_type": "stream",
     "text": [
      "Loading sp with lead time 30h from /home/jason/Sources/cgan-ui/webapps/../store/ecmwf/enfo/20240404000000-30h-enfo-ef.grib2\n"
     ]
    },
    {
     "name": "stderr",
     "output_type": "stream",
     "text": [
      "WARNING:cfgrib.messages:Ignoring index file '/home/jason/Sources/cgan-ui/webapps/../store/ecmwf/enfo/20240404000000-30h-enfo-ef.grib2.923a8.idx' incompatible with GRIB file\n",
      "WARNING:cfgrib.messages:Ignoring index file '/home/jason/Sources/cgan-ui/webapps/../store/ecmwf/enfo/20240404000000-30h-enfo-ef.grib2.923a8.idx' incompatible with GRIB file\n",
      "WARNING:cfgrib.messages:Ignoring index file '/home/jason/Sources/cgan-ui/webapps/../store/ecmwf/enfo/20240404000000-30h-enfo-ef.grib2.923a8.idx' incompatible with GRIB file\n",
      "WARNING:cfgrib.messages:Ignoring index file '/home/jason/Sources/cgan-ui/webapps/../store/ecmwf/enfo/20240404000000-30h-enfo-ef.grib2.923a8.idx' incompatible with GRIB file\n",
      "WARNING:cfgrib.messages:Ignoring index file '/home/jason/Sources/cgan-ui/webapps/../store/ecmwf/enfo/20240404000000-30h-enfo-ef.grib2.923a8.idx' incompatible with GRIB file\n",
      "WARNING:cfgrib.messages:Ignoring index file '/home/jason/Sources/cgan-ui/webapps/../store/ecmwf/enfo/20240404000000-30h-enfo-ef.grib2.923a8.idx' incompatible with GRIB file\n",
      "WARNING:cfgrib.messages:Ignoring index file '/home/jason/Sources/cgan-ui/webapps/../store/ecmwf/enfo/20240404000000-30h-enfo-ef.grib2.923a8.idx' incompatible with GRIB file\n",
      "WARNING:cfgrib.messages:Ignoring index file '/home/jason/Sources/cgan-ui/webapps/../store/ecmwf/enfo/20240404000000-30h-enfo-ef.grib2.923a8.idx' incompatible with GRIB file\n",
      "WARNING:cfgrib.messages:Ignoring index file '/home/jason/Sources/cgan-ui/webapps/../store/ecmwf/enfo/20240404000000-30h-enfo-ef.grib2.923a8.idx' incompatible with GRIB file\n",
      "WARNING:cfgrib.messages:Ignoring index file '/home/jason/Sources/cgan-ui/webapps/../store/ecmwf/enfo/20240404000000-30h-enfo-ef.grib2.923a8.idx' incompatible with GRIB file\n",
      "WARNING:cfgrib.messages:Ignoring index file '/home/jason/Sources/cgan-ui/webapps/../store/ecmwf/enfo/20240404000000-30h-enfo-ef.grib2.923a8.idx' incompatible with GRIB file\n",
      "WARNING:cfgrib.messages:Ignoring index file '/home/jason/Sources/cgan-ui/webapps/../store/ecmwf/enfo/20240404000000-30h-enfo-ef.grib2.923a8.idx' incompatible with GRIB file\n",
      "WARNING:cfgrib.messages:Ignoring index file '/home/jason/Sources/cgan-ui/webapps/../store/ecmwf/enfo/20240404000000-30h-enfo-ef.grib2.923a8.idx' incompatible with GRIB file\n",
      "WARNING:cfgrib.messages:Ignoring index file '/home/jason/Sources/cgan-ui/webapps/../store/ecmwf/enfo/20240404000000-30h-enfo-ef.grib2.923a8.idx' incompatible with GRIB file\n",
      "WARNING:cfgrib.messages:Ignoring index file '/home/jason/Sources/cgan-ui/webapps/../store/ecmwf/enfo/20240404000000-30h-enfo-ef.grib2.923a8.idx' incompatible with GRIB file\n",
      "WARNING:cfgrib.messages:Ignoring index file '/home/jason/Sources/cgan-ui/webapps/../store/ecmwf/enfo/20240404000000-30h-enfo-ef.grib2.923a8.idx' incompatible with GRIB file\n",
      "WARNING:cfgrib.messages:Ignoring index file '/home/jason/Sources/cgan-ui/webapps/../store/ecmwf/enfo/20240404000000-30h-enfo-ef.grib2.923a8.idx' incompatible with GRIB file\n",
      "WARNING:cfgrib.messages:Ignoring index file '/home/jason/Sources/cgan-ui/webapps/../store/ecmwf/enfo/20240404000000-30h-enfo-ef.grib2.923a8.idx' incompatible with GRIB file\n",
      "WARNING:cfgrib.messages:Ignoring index file '/home/jason/Sources/cgan-ui/webapps/../store/ecmwf/enfo/20240404000000-30h-enfo-ef.grib2.923a8.idx' incompatible with GRIB file\n",
      "WARNING:cfgrib.messages:Ignoring index file '/home/jason/Sources/cgan-ui/webapps/../store/ecmwf/enfo/20240404000000-30h-enfo-ef.grib2.923a8.idx' incompatible with GRIB file\n",
      "WARNING:cfgrib.messages:Ignoring index file '/home/jason/Sources/cgan-ui/webapps/../store/ecmwf/enfo/20240404000000-30h-enfo-ef.grib2.923a8.idx' incompatible with GRIB file\n",
      "WARNING:cfgrib.messages:Ignoring index file '/home/jason/Sources/cgan-ui/webapps/../store/ecmwf/enfo/20240404000000-30h-enfo-ef.grib2.923a8.idx' incompatible with GRIB file\n",
      "WARNING:cfgrib.messages:Ignoring index file '/home/jason/Sources/cgan-ui/webapps/../store/ecmwf/enfo/20240404000000-30h-enfo-ef.grib2.923a8.idx' incompatible with GRIB file\n"
     ]
    }
   ],
   "source": [
    "# helper functions\n",
    "from cgan_ui.utils import get_data_store_path\n",
    "from cgan_ui.show_forecasts import load_forecast, plot_forecast\n",
    "\n",
    "source = \"ecmwf\"\n",
    "stream = \"enfo\"\n",
    "\n",
    "store_path = get_data_store_path()\n",
    "data_dir = store_path / source / stream\n",
    "\n",
    "# load datasets\n",
    "data = load_forecast(\n",
    "    key=vis_param.value,\n",
    "    forecast_init_date=datetime.strptime(ifs_date.value, \"%b %d, %Y\"),\n",
    "    data_dir=str(data_dir),\n",
    ")"
   ]
  },
  {
   "cell_type": "code",
   "execution_count": null,
   "metadata": {},
   "outputs": [],
   "source": [
    "# Plot the current data\n",
    "plot_forecast(data)"
   ]
  }
 ],
 "metadata": {
  "kernelspec": {
   "display_name": "cgan",
   "language": "python",
   "name": "python3"
  },
  "language_info": {
   "codemirror_mode": {
    "name": "ipython",
    "version": 3
   },
   "file_extension": ".py",
   "mimetype": "text/x-python",
   "name": "python",
   "nbconvert_exporter": "python",
   "pygments_lexer": "ipython3",
   "version": "3.11.8"
  }
 },
 "nbformat": 4,
 "nbformat_minor": 2
}
