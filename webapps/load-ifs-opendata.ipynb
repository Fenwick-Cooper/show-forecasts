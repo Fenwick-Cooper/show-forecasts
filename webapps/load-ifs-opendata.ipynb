{
 "cells": [
  {
   "cell_type": "code",
   "execution_count": null,
   "metadata": {},
   "outputs": [],
   "source": [
    "# Application initialization\n",
    "import mercury as mr\n",
    "\n",
    "show_code = mr.Checkbox(value=False, label=\"Show code\")\n",
    "\n",
    "app = mr.App(\n",
    "    title='Interactive IFS Data Exploration',\n",
    "    description='Loading and Visualizing IFS Open Data',\n",
    "    show_code=show_code.value\n",
    "    \n",
    ")\n"
   ]
  },
  {
   "cell_type": "markdown",
   "metadata": {},
   "source": [
    "This web application provides a way to explore ECMWF open datasets available at their [public portal](https://github.com/ecmwf/ecmwf-opendata) https://github.com/ecmwf/ecmwf-opendata. \n",
    "\n",
    "The application has interactive input fields that can be used to define data parameters and forecast date.  \n"
   ]
  },
  {
   "cell_type": "code",
   "execution_count": null,
   "metadata": {},
   "outputs": [],
   "source": [
    "# helper functions\n",
    "from cgan_ui.show_forecasts import get_possible_variables\n",
    "\n",
    "get_possible_variables()"
   ]
  },
  {
   "cell_type": "code",
   "execution_count": null,
   "metadata": {},
   "outputs": [],
   "source": [
    "from datetime import datetime\n",
    "\n",
    "# helper functions\n",
    "from cgan_ui.show_forecasts import var_info, load_forecast, plot_forecast\n",
    "\n",
    "# Where the forecasts are downloaded to\n",
    "data_dir = \"data/ecmwf/enfo\"\n",
    "\n",
    "# The date that the forecast was initialised\n",
    "data_dates = [\"2024-03-12\", \"2024-03-11\", \"2024-03-10\"]\n",
    "\n",
    "ifs_date = mr.Select(\n",
    "    choices=data_dates,\n",
    "    value=data_dates[0],\n",
    "    label=\"Forecast Initialization Date\",\n",
    "    url_key=\"ifs_date\",\n",
    ")"
   ]
  },
  {
   "cell_type": "code",
   "execution_count": null,
   "metadata": {},
   "outputs": [],
   "source": [
    "params = list(var_info.keys())\n",
    "\n",
    "vis_param = mr.Select(\n",
    "    value=params[0], choices=params, label=\"Data Variable to Plot\", url_key=\"vis_param\"\n",
    ")"
   ]
  },
  {
   "cell_type": "code",
   "execution_count": null,
   "metadata": {},
   "outputs": [],
   "source": [
    "\n",
    "# load datasets\n",
    "data = load_forecast(\n",
    "    vis_param.value, datetime.strptime(ifs_date.value, \"%Y-%m-%d\"), data_dir\n",
    ")"
   ]
  },
  {
   "cell_type": "code",
   "execution_count": null,
   "metadata": {},
   "outputs": [],
   "source": [
    "# Plot the current data\n",
    "plot_forecast(data)"
   ]
  }
 ],
 "metadata": {
  "kernelspec": {
   "display_name": "cgan",
   "language": "python",
   "name": "python3"
  },
  "language_info": {
   "codemirror_mode": {
    "name": "ipython",
    "version": 3
   },
   "file_extension": ".py",
   "mimetype": "text/x-python",
   "name": "python",
   "nbconvert_exporter": "python",
   "pygments_lexer": "ipython3",
   "version": "3.11.8"
  }
 },
 "nbformat": 4,
 "nbformat_minor": 2
}
