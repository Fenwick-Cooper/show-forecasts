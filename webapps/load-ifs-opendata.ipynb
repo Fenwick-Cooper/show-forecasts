{
 "cells": [
  {
   "cell_type": "markdown",
   "metadata": {},
   "source": [
    "This web application provides a way to explore ECMWF open datasets available at their [public portal](https://github.com/ecmwf/ecmwf-opendata) https://github.com/ecmwf/ecmwf-opendata. \n",
    "\n",
    "The application has interactive input fields that can be used to define data parameters and forecast date.  \n"
   ]
  },
  {
   "cell_type": "code",
   "execution_count": null,
   "metadata": {},
   "outputs": [],
   "source": [
    "# Application initialization\n",
    "import mercury as mr\n",
    "\n",
    "show_code = mr.Checkbox(value=False, label=\"Show code\")\n",
    "\n",
    "app = mr.App(\n",
    "    title='Interactive IFS Data Exploration',\n",
    "    description='Loading and Visualizing IFS Open Data',\n",
    "    show_code=show_code.value\n",
    "    \n",
    ")\n"
   ]
  },
  {
   "cell_type": "code",
   "execution_count": null,
   "metadata": {},
   "outputs": [],
   "source": [
    "# helper functions\n",
    "from cgan_ui.show_forecasts import get_possible_variables\n",
    "\n",
    "get_possible_variables()"
   ]
  },
  {
   "cell_type": "code",
   "execution_count": null,
   "metadata": {},
   "outputs": [],
   "source": [
    "from datetime import datetime\n",
    "from cgan_ui.utils import get_forecast_data_dates\n",
    "\n",
    "data_dates = get_forecast_data_dates()\n",
    "data_dates\n"
   ]
  },
  {
   "cell_type": "code",
   "execution_count": null,
   "metadata": {},
   "outputs": [],
   "source": [
    "ifs_date = mr.Select(\n",
    "    choices=data_dates,\n",
    "    value=data_dates[-1],\n",
    "    label=\"Forecast Initialization Date\",\n",
    "    url_key=\"ifs_date\",\n",
    ")"
   ]
  },
  {
   "cell_type": "code",
   "execution_count": null,
   "metadata": {},
   "outputs": [],
   "source": [
    "from cgan_ui.constants import DATA_PARAMS\n",
    "\n",
    "params = list(DATA_PARAMS.keys())\n",
    "\n",
    "vis_param = mr.Select(\n",
    "    value=params[0], choices=params, label=\"Data Variable to Plot\", url_key=\"vis_param\"\n",
    ")"
   ]
  },
  {
   "cell_type": "code",
   "execution_count": null,
   "metadata": {},
   "outputs": [],
   "source": [
    "# helper functions\n",
    "from cgan_ui.utils import get_data_store_path\n",
    "from cgan_ui.show_forecasts import load_forecast, plot_forecast\n",
    "\n",
    "source = \"ecmwf\"\n",
    "stream = \"enfo\"\n",
    "\n",
    "store_path = get_data_store_path()\n",
    "data_dir = store_path / source / stream\n",
    "\n",
    "# load datasets\n",
    "data = load_forecast(\n",
    "    key=vis_param.value,\n",
    "    forecast_init_date=datetime.strptime(ifs_date.value, \"%b %d, %Y\"),\n",
    "    data_dir=str(data_dir),\n",
    ")"
   ]
  },
  {
   "cell_type": "code",
   "execution_count": null,
   "metadata": {},
   "outputs": [],
   "source": [
    "# Plot the current data\n",
    "plot_forecast(data)"
   ]
  }
 ],
 "metadata": {
  "kernelspec": {
   "display_name": "cgan",
   "language": "python",
   "name": "python3"
  },
  "language_info": {
   "codemirror_mode": {
    "name": "ipython",
    "version": 3
   },
   "file_extension": ".py",
   "mimetype": "text/x-python",
   "name": "python",
   "nbconvert_exporter": "python",
   "pygments_lexer": "ipython3",
   "version": "3.11.8"
  }
 },
 "nbformat": 4,
 "nbformat_minor": 2
}
