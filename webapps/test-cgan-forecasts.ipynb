{
 "cells": [
  {
   "cell_type": "code",
   "execution_count": null,
   "metadata": {},
   "outputs": [],
   "source": [
    "# Application initialization\n",
    "import mercury as mr\n",
    "\n",
    "show_code = mr.Checkbox(value=False, label=\"Show code\")\n",
    "\n",
    "app = mr.App(\n",
    "    title='cGAn Forecasts Test',\n",
    "    description='Testing cGAN Forecasts',\n",
    "    show_code=show_code.value\n",
    "    \n",
    ")\n"
   ]
  },
  {
   "cell_type": "code",
   "execution_count": null,
   "metadata": {},
   "outputs": [],
   "source": [
    "# Demo script to load and plot cGAN forecast data.\n",
    "\n",
    "from datetime import datetime\n",
    "\n",
    "# These are the two functions that you can use:\n",
    "from cgan_ui.show_cgan import load_GAN_forecast, plot_GAN_forecast\n",
    "\n",
    "# Where the forecasts are downloaded to\n",
    "data_dir = \"data/cgan/operational\"\n",
    "\n",
    "# The date that the forecast was initialised\n",
    "forecast_init_date = datetime(year=2024, month=3, day=9)\n",
    "# Pick today instead:\n",
    "# forecast_init_date = datetime.now()"
   ]
  },
  {
   "cell_type": "code",
   "execution_count": null,
   "metadata": {},
   "outputs": [],
   "source": [
    "# Load the GAN forecast\n",
    "# data = load_GAN_forecast(forecast_init_date, data_dir)"
   ]
  },
  {
   "cell_type": "code",
   "execution_count": null,
   "metadata": {},
   "outputs": [],
   "source": [
    "# Plot the GAN forecast\n",
    "plot_GAN_forecast(data)"
   ]
  }
 ],
 "metadata": {
  "kernelspec": {
   "display_name": "cgan",
   "language": "python",
   "name": "python3"
  },
  "language_info": {
   "codemirror_mode": {
    "name": "ipython",
    "version": 3
   },
   "file_extension": ".py",
   "mimetype": "text/x-python",
   "name": "python",
   "nbconvert_exporter": "python",
   "pygments_lexer": "ipython3",
   "version": "3.11.8"
  }
 },
 "nbformat": 4,
 "nbformat_minor": 2
}
