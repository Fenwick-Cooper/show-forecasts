{
 "cells": [
  {
   "cell_type": "code",
   "execution_count": null,
   "metadata": {},
   "outputs": [],
   "source": [
    "# Application initialization\n",
    "import mercury as mr\n",
    "\n",
    "show_code = mr.Checkbox(value=False, label=\"Show code\")\n",
    "\n",
    "app = mr.App(\n",
    "    title='cGAn Forecasts Test',\n",
    "    description='Testing cGAN Forecasts',\n",
    "    show_code=show_code.value\n",
    "    \n",
    ")\n"
   ]
  },
  {
   "cell_type": "code",
   "execution_count": null,
   "metadata": {},
   "outputs": [],
   "source": [
    "# Demo script to load and plot cGAN forecast data.\n",
    "from datetime import datetime\n",
    "from cgan_ui.show_cgan import get_forecast_data_dates\n",
    "\n",
    "data_dates = get_forecast_data_dates()\n",
    "\n",
    "# The date that the forecast was initialised\n",
    "# slicing latest available forecast date\n",
    "forecast_init_date = datetime.strptime(data_dates[-1], \"%b %d, %Y\")"
   ]
  },
  {
   "cell_type": "code",
   "execution_count": null,
   "metadata": {},
   "outputs": [],
   "source": [
    "from cgan_ui.show_cgan import (\n",
    "    get_forecasts_data_dir,\n",
    "    load_GAN_forecast,\n",
    "    plot_GAN_forecast,\n",
    ")\n",
    "\n",
    "data_dir = get_forecasts_data_dir()\n",
    "\n",
    "# Load the GAN forecast\n",
    "data = load_GAN_forecast(forecast_init_date, data_dir)"
   ]
  },
  {
   "cell_type": "code",
   "execution_count": null,
   "metadata": {},
   "outputs": [],
   "source": [
    "# Plot the GAN forecast\n",
    "plot_GAN_forecast(data)"
   ]
  }
 ],
 "metadata": {
  "kernelspec": {
   "display_name": "cgan",
   "language": "python",
   "name": "python3"
  },
  "language_info": {
   "codemirror_mode": {
    "name": "ipython",
    "version": 3
   },
   "file_extension": ".py",
   "mimetype": "text/x-python",
   "name": "python",
   "nbconvert_exporter": "python",
   "pygments_lexer": "ipython3",
   "version": "3.11.8"
  }
 },
 "nbformat": 4,
 "nbformat_minor": 2
}
