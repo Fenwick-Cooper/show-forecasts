{
 "cells": [
  {
   "cell_type": "code",
   "execution_count": null,
   "metadata": {
    "execution": {
     "iopub.execute_input": "2024-03-13T18:11:49.440711Z",
     "iopub.status.busy": "2024-03-13T18:11:49.439972Z",
     "iopub.status.idle": "2024-03-13T18:11:50.320109Z",
     "shell.execute_reply": "2024-03-13T18:11:50.318719Z",
     "shell.execute_reply.started": "2024-03-13T18:11:49.440665Z"
    },
    "tags": []
   },
   "outputs": [],
   "source": [
    "# Demo script to load and plot ECMWF forecast open data.\n",
    "\n",
    "# These are the four functions that you can use:\n",
    "from cgan_ui.show_forecasts import load_forecast, plot_forecast, print_forecast_info, get_possible_variables\n",
    "\n",
    "# See what variables are available\n",
    "get_possible_variables()"
   ]
  },
  {
   "cell_type": "code",
   "execution_count": null,
   "metadata": {
    "execution": {
     "iopub.execute_input": "2024-03-13T18:11:50.322639Z",
     "iopub.status.busy": "2024-03-13T18:11:50.322100Z",
     "iopub.status.idle": "2024-03-13T18:11:50.327950Z",
     "shell.execute_reply": "2024-03-13T18:11:50.327176Z",
     "shell.execute_reply.started": "2024-03-13T18:11:50.322610Z"
    },
    "tags": []
   },
   "outputs": [],
   "source": [
    "from datetime import datetime\n",
    "from cgan_ui.show_forecasts import get_forecast_data_dates\n",
    "\n",
    "data_dates = get_forecast_data_dates()\n",
    "# The date that the forecast was initialised\n",
    "# slicing latest available forecast date\n",
    "forecast_init_date = datetime.strptime(data_dates[-1], \"%b %d, %Y\")"
   ]
  },
  {
   "cell_type": "code",
   "execution_count": null,
   "metadata": {
    "execution": {
     "iopub.execute_input": "2024-03-13T18:11:50.328807Z",
     "iopub.status.busy": "2024-03-13T18:11:50.328651Z",
     "iopub.status.idle": "2024-03-13T18:14:55.512559Z",
     "shell.execute_reply": "2024-03-13T18:14:55.511195Z",
     "shell.execute_reply.started": "2024-03-13T18:11:50.328793Z"
    },
    "tags": []
   },
   "outputs": [],
   "source": [
    "from cgan_ui.show_forecasts import get_forecasts_data_dir\n",
    "\n",
    "data_dir=get_forecasts_data_dir()\n",
    "\n",
    "# Load some forecast data\n",
    "# Options given by possible_variables() are\n",
    "#    'sp'   - Surface pressure (hPa)\n",
    "#    'msl'  - Pressure at mean sea level (hPa)\n",
    "#    't2m'  - Two metre temperature (deg. C)\n",
    "#    'wind' - Wind speed (m/s)\n",
    "#    'tp'   - Total precipitation (mm/h)\n",
    "#    'ro'   - Surface runoff water (m)\n",
    "data = load_forecast('sp', forecast_init_date, data_dir)"
   ]
  },
  {
   "cell_type": "code",
   "execution_count": null,
   "metadata": {
    "execution": {
     "iopub.execute_input": "2024-03-13T18:14:55.513840Z",
     "iopub.status.busy": "2024-03-13T18:14:55.513512Z",
     "iopub.status.idle": "2024-03-13T18:14:55.518302Z",
     "shell.execute_reply": "2024-03-13T18:14:55.517459Z",
     "shell.execute_reply.started": "2024-03-13T18:14:55.513823Z"
    }
   },
   "outputs": [],
   "source": [
    "# Print some information about the forecast\n",
    "print_forecast_info(forecast_init_date)"
   ]
  },
  {
   "cell_type": "code",
   "execution_count": null,
   "metadata": {
    "execution": {
     "iopub.execute_input": "2024-03-13T18:14:55.519299Z",
     "iopub.status.busy": "2024-03-13T18:14:55.519019Z",
     "iopub.status.idle": "2024-03-13T18:14:56.096567Z",
     "shell.execute_reply": "2024-03-13T18:14:56.095775Z",
     "shell.execute_reply.started": "2024-03-13T18:14:55.519284Z"
    },
    "tags": []
   },
   "outputs": [],
   "source": [
    "# Plot the current data\n",
    "plot_forecast(data)"
   ]
  },
  {
   "cell_type": "code",
   "execution_count": null,
   "metadata": {
    "execution": {
     "iopub.execute_input": "2024-03-13T18:14:56.097985Z",
     "iopub.status.busy": "2024-03-13T18:14:56.097368Z",
     "iopub.status.idle": "2024-03-13T18:26:41.108679Z",
     "shell.execute_reply": "2024-03-13T18:26:41.107857Z",
     "shell.execute_reply.started": "2024-03-13T18:14:56.097969Z"
    },
    "tags": []
   },
   "outputs": [],
   "source": [
    "# Show the other variables\n",
    "\n",
    "data = load_forecast('msl', forecast_init_date, data_dir, status_updates=False)\n",
    "plot_forecast(data)\n",
    "\n",
    "data = load_forecast('t2m', forecast_init_date, data_dir, status_updates=False)\n",
    "plot_forecast(data)\n",
    "\n",
    "data = load_forecast('wind', forecast_init_date, data_dir, status_updates=False)\n",
    "plot_forecast(data)\n",
    "\n",
    "data = load_forecast('tp', forecast_init_date, data_dir, status_updates=False)\n",
    "plot_forecast(data)\n",
    "\n",
    "data = load_forecast('ro', forecast_init_date, data_dir, status_updates=False)\n",
    "plot_forecast(data)"
   ]
  },
  {
   "cell_type": "code",
   "execution_count": null,
   "metadata": {
    "execution": {
     "iopub.execute_input": "2024-03-13T18:26:41.110469Z",
     "iopub.status.busy": "2024-03-13T18:26:41.110143Z",
     "iopub.status.idle": "2024-03-13T18:26:45.193353Z",
     "shell.execute_reply": "2024-03-13T18:26:45.191533Z",
     "shell.execute_reply.started": "2024-03-13T18:26:41.110453Z"
    },
    "tags": []
   },
   "outputs": [],
   "source": [
    "#!jupyter nbconvert --to html test_load_IFS_openData.ipynb"
   ]
  },
  {
   "cell_type": "code",
   "execution_count": null,
   "metadata": {},
   "outputs": [],
   "source": []
  }
 ],
 "metadata": {
  "kernelspec": {
   "display_name": "Python 3 (ipykernel)",
   "language": "python",
   "name": "python3"
  },
  "language_info": {
   "codemirror_mode": {
    "name": "ipython",
    "version": 3
   },
   "file_extension": ".py",
   "mimetype": "text/x-python",
   "name": "python",
   "nbconvert_exporter": "python",
   "pygments_lexer": "ipython3",
   "version": "3.11.8"
  },
  "vscode": {
   "interpreter": {
    "hash": "3ab015c2a49daae96e873dea647810b2e9531d130d2d418268db2bbd503fb5b7"
   }
  }
 },
 "nbformat": 4,
 "nbformat_minor": 4
}
